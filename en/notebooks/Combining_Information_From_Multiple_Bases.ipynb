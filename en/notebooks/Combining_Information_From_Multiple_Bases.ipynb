{
  "nbformat": 4,
  "nbformat_minor": 0,
  "metadata": {
    "colab": {
      "name": "Combining_Information_From_Multiple_Bases.ipynb",
      "provenance": [],
      "collapsed_sections": [
        "7_1ENqru6ieq",
        "jw7B3yLkIYRP"
      ],
      "include_colab_link": true
    },
    "kernelspec": {
      "name": "python3",
      "display_name": "Python 3"
    }
  },
  "cells": [
    {
      "cell_type": "markdown",
      "metadata": {
        "id": "view-in-github",
        "colab_type": "text"
      },
      "source": [
        "<a href=\"https://colab.research.google.com/github/Samuellucas97/pandas-zero/blob/master/en/notebooks/Combining_Information_From_Multiple_Bases.ipynb\" target=\"_parent\"><img src=\"https://colab.research.google.com/assets/colab-badge.svg\" alt=\"Open In Colab\"/></a>"
      ]
    },
    {
      "cell_type": "markdown",
      "metadata": {
        "id": "558LmY6QIVn3",
        "colab_type": "text"
      },
      "source": [
        "# Concatenating multiples bases\n",
        "\n",
        "\n"
      ]
    },
    {
      "cell_type": "markdown",
      "metadata": {
        "id": "DJ68OqvSJA_-",
        "colab_type": "text"
      },
      "source": [
        "In some situations, the information that we need is divided intro databases with identify format.  \n",
        "\n",
        "In these cases, we can **concat** this bases.  \n",
        "\n",
        "The follow example investigates the diversity on the UFRN courses. \n",
        "\n",
        "Our information source for this example is datasets about join students at UFRN, which is organized by per year of entry.  "
      ]
    },
    {
      "cell_type": "markdown",
      "metadata": {
        "id": "E9-16_-CSsS2",
        "colab_type": "text"
      },
      "source": [
        "## Collecting the data"
      ]
    },
    {
      "cell_type": "markdown",
      "metadata": {
        "id": "JxVRxtplTame",
        "colab_type": "text"
      },
      "source": [
        "The first step when we have differents sources is to collect in the most automated way possible.  \n",
        "\n",
        "In these example, we organized the links for the student datas in a dictionary.  \n",
        "\n",
        "In the following example, each key is a year and your associated value is the link to the corresponding dataset:"
      ]
    },
    {
      "cell_type": "code",
      "metadata": {
        "id": "w2PBi5pMJ7qZ",
        "colab_type": "code",
        "colab": {}
      },
      "source": [
        "csv_students = {\n",
        "    2019: \"http://dados.ufrn.br/dataset/554c2d41-cfce-4278-93c6-eb9aa49c5d16/resource/a55aef81-e094-4267-8643-f283524e3dd7/download/discentes-2019.csv\",\n",
        "    2018: \"http://dados.ufrn.br/dataset/554c2d41-cfce-4278-93c6-eb9aa49c5d16/resource/146b749b-b9d0-49b2-b114-ac6cc82a4051/download/discentes-2018.csv\",\n",
        "    2017: \"http://dados.ufrn.br/dataset/554c2d41-cfce-4278-93c6-eb9aa49c5d16/resource/dc732572-a51a-4d4a-a39d-2db37cbe5382/download/discentes-2017.csv\",\n",
        "    2016: \"http://dados.ufrn.br/dataset/554c2d41-cfce-4278-93c6-eb9aa49c5d16/resource/7d2fa5b3-743f-465f-8450-91719b34a002/download/discentes-2016.csv\",\n",
        "    2015: \"http://dados.ufrn.br/dataset/554c2d41-cfce-4278-93c6-eb9aa49c5d16/resource/e2b5b843-4f58-497e-8979-44daf8df8f94/download/discentes-2015.csv\",\n",
        "    2014: \"http://dados.ufrn.br/dataset/554c2d41-cfce-4278-93c6-eb9aa49c5d16/resource/6c23a430-9a7c-4d0f-9602-1d5d97d40e6a/download/discentes-2014.csv\",\n",
        "}"
      ],
      "execution_count": 0,
      "outputs": []
    },
    {
      "cell_type": "markdown",
      "metadata": {
        "id": "tF3thp-SZk8I",
        "colab_type": "text"
      },
      "source": [
        "We can consume each dataset using the `pd.read_csv()` method.  \n",
        "\n",
        "The Python allows that this method can be apllied for all links in sequence using **comprehension list**, with the notation:\n",
        "\n",
        "```python3\n",
        "pd.read_csv(dicionário[chave]) for chave in dicionário\n",
        "```\n",
        "\n",
        "Understanding the code above, we ask Python to apply the method `pd.read_csv(dicionário[chave])` for each key in the dictionary.  \n",
        "  \n",
        "The produced list contains a `DataFrame` for each year.  \n",
        "\n",
        "The method `pd.concat()` combinate all these dataframes in only one:"
      ]
    },
    {
      "cell_type": "code",
      "metadata": {
        "id": "9UvsDBZJkfgF",
        "colab_type": "code",
        "colab": {}
      },
      "source": [
        "import pandas as pd"
      ],
      "execution_count": 0,
      "outputs": []
    },
    {
      "cell_type": "code",
      "metadata": {
        "id": "eof8Gt4Mkl8X",
        "colab_type": "code",
        "outputId": "3fd6472c-0e4d-4d1f-858e-1b9c6311a892",
        "colab": {
          "base_uri": "https://localhost:8080/",
          "height": 233
        }
      },
      "source": [
        "data = pd.concat(pd.read_csv(csv_students[year], sep=\";\") for year in csv_students)\n",
        "data.head(n=2)"
      ],
      "execution_count": 0,
      "outputs": [
        {
          "output_type": "execute_result",
          "data": {
            "text/html": [
              "<div>\n",
              "<style scoped>\n",
              "    .dataframe tbody tr th:only-of-type {\n",
              "        vertical-align: middle;\n",
              "    }\n",
              "\n",
              "    .dataframe tbody tr th {\n",
              "        vertical-align: top;\n",
              "    }\n",
              "\n",
              "    .dataframe thead th {\n",
              "        text-align: right;\n",
              "    }\n",
              "</style>\n",
              "<table border=\"1\" class=\"dataframe\">\n",
              "  <thead>\n",
              "    <tr style=\"text-align: right;\">\n",
              "      <th></th>\n",
              "      <th>matricula</th>\n",
              "      <th>nome_discente</th>\n",
              "      <th>sexo</th>\n",
              "      <th>ano_ingresso</th>\n",
              "      <th>periodo_ingresso</th>\n",
              "      <th>forma_ingresso</th>\n",
              "      <th>tipo_discente</th>\n",
              "      <th>status</th>\n",
              "      <th>sigla_nivel_ensino</th>\n",
              "      <th>nivel_ensino</th>\n",
              "      <th>id_curso</th>\n",
              "      <th>nome_curso</th>\n",
              "      <th>modalidade_educacao</th>\n",
              "      <th>id_unidade</th>\n",
              "      <th>nome_unidade</th>\n",
              "      <th>id_unidade_gestora</th>\n",
              "      <th>nome_unidade_gestora</th>\n",
              "    </tr>\n",
              "  </thead>\n",
              "  <tbody>\n",
              "    <tr>\n",
              "      <th>0</th>\n",
              "      <td>20193012209</td>\n",
              "      <td>ABDENOR BEZERRA DOS SANTOS</td>\n",
              "      <td>M</td>\n",
              "      <td>2019</td>\n",
              "      <td>1.0</td>\n",
              "      <td>PROCESSO SELETIVO</td>\n",
              "      <td>REGULAR</td>\n",
              "      <td>CANCELADO</td>\n",
              "      <td>T</td>\n",
              "      <td>TÉCNICO</td>\n",
              "      <td>96054058.0</td>\n",
              "      <td>CURSO TÉCNICO DA METRÓPOLE DIGITAL</td>\n",
              "      <td>SEMI-PRESENCIAL</td>\n",
              "      <td>6069.0</td>\n",
              "      <td>INSTITUTO METROPOLE DIGITAL</td>\n",
              "      <td>605.0</td>\n",
              "      <td>UNIVERSIDADE FEDERAL DO RIO GRANDE DO NORTE</td>\n",
              "    </tr>\n",
              "    <tr>\n",
              "      <th>1</th>\n",
              "      <td>20190088900</td>\n",
              "      <td>ABDIAS MONTEIRO DE ANDRADE MELO</td>\n",
              "      <td>M</td>\n",
              "      <td>2019</td>\n",
              "      <td>1.0</td>\n",
              "      <td>SiSU</td>\n",
              "      <td>REGULAR</td>\n",
              "      <td>ATIVO</td>\n",
              "      <td>G</td>\n",
              "      <td>GRADUAÇÃO</td>\n",
              "      <td>111635060.0</td>\n",
              "      <td>HISTÓRIA</td>\n",
              "      <td>PRESENCIAL</td>\n",
              "      <td>1482.0</td>\n",
              "      <td>CENTRO DE  ENSINO SUPERIOR DO SERIDÓ</td>\n",
              "      <td>1482.0</td>\n",
              "      <td>CENTRO DE  ENSINO SUPERIOR DO SERIDÓ</td>\n",
              "    </tr>\n",
              "  </tbody>\n",
              "</table>\n",
              "</div>"
            ],
            "text/plain": [
              "     matricula  ...                         nome_unidade_gestora\n",
              "0  20193012209  ...  UNIVERSIDADE FEDERAL DO RIO GRANDE DO NORTE\n",
              "1  20190088900  ...         CENTRO DE  ENSINO SUPERIOR DO SERIDÓ\n",
              "\n",
              "[2 rows x 17 columns]"
            ]
          },
          "metadata": {
            "tags": []
          },
          "execution_count": 4
        }
      ]
    },
    {
      "cell_type": "markdown",
      "metadata": {
        "id": "H5MXsl7b2Kzf",
        "colab_type": "text"
      },
      "source": [
        "Now that we already unified the dataset, let´s save it toward we don´t need to redo this process each time.   \n",
        "\n",
        "One of ways of **to persist** a `DataFrame` is to use the `to_csv()` method that save the data in an CSV file:  "
      ]
    },
    {
      "cell_type": "code",
      "metadata": {
        "id": "bWGZa-Uq50LK",
        "colab_type": "code",
        "outputId": "81479765-0229-428c-dce6-555fa821d34a",
        "colab": {
          "base_uri": "https://localhost:8080/",
          "height": 54
        }
      },
      "source": [
        "from google.colab import drive\n",
        "drive.mount('/content/drive')"
      ],
      "execution_count": 0,
      "outputs": [
        {
          "output_type": "stream",
          "text": [
            "Drive already mounted at /content/drive; to attempt to forcibly remount, call drive.mount(\"/content/drive\", force_remount=True).\n"
          ],
          "name": "stdout"
        }
      ]
    },
    {
      "cell_type": "code",
      "metadata": {
        "id": "YlaQSYyI53lw",
        "colab_type": "code",
        "colab": {}
      },
      "source": [
        "data.to_csv(\"/content/drive/My Drive/discentes-ufrn-2014-2019.csv\", index=False)"
      ],
      "execution_count": 0,
      "outputs": []
    },
    {
      "cell_type": "markdown",
      "metadata": {
        "id": "7_1ENqru6ieq",
        "colab_type": "text"
      },
      "source": [
        "## Evaluating the diversity at IMD"
      ]
    },
    {
      "cell_type": "markdown",
      "metadata": {
        "id": "rIHazas8D65j",
        "colab_type": "text"
      },
      "source": [
        "We start our analysis from the IMD data.\n",
        "\n",
        "We make this selection filtering by the field `nome_unidade`: \n",
        "\n",
        "\n"
      ]
    },
    {
      "cell_type": "code",
      "metadata": {
        "id": "TsWjbcxpFSCP",
        "colab_type": "code",
        "outputId": "5e4e7936-dd11-475a-b704-b7c9716ee10c",
        "colab": {
          "base_uri": "https://localhost:8080/",
          "height": 35
        }
      },
      "source": [
        "data_imd = data.query(\"nome_unidade == 'INSTITUTO METROPOLE DIGITAL'\")\n",
        "data_imd.shape"
      ],
      "execution_count": 0,
      "outputs": [
        {
          "output_type": "execute_result",
          "data": {
            "text/plain": [
              "(10080, 17)"
            ]
          },
          "metadata": {
            "tags": []
          },
          "execution_count": 5
        }
      ]
    },
    {
      "cell_type": "markdown",
      "metadata": {
        "id": "T88YvzMMi2uF",
        "colab_type": "text"
      },
      "source": [
        "A very common operation into databases is calculate statistics that need group the data.\n",
        "\n",
        "At the Pandas, we can do this using the method `groupby()` of `DataFrame` type object.\n",
        "\n",
        "The below example calculate the quantity of observations every year, this is, the number of newcomers at the IMD courses between 2014 and 2019.\n",
        "\n",
        "Before, however, we need to verify if it has missing data in those columns:\n",
        "\n"
      ]
    },
    {
      "cell_type": "code",
      "metadata": {
        "id": "1089uIW3oxVr",
        "colab_type": "code",
        "outputId": "a68b4f02-26d1-4d54-ca38-e31d1c38fd93",
        "colab": {
          "base_uri": "https://localhost:8080/",
          "height": 341
        }
      },
      "source": [
        "data_imd.isnull().sum()"
      ],
      "execution_count": 0,
      "outputs": [
        {
          "output_type": "execute_result",
          "data": {
            "text/plain": [
              "matricula               0\n",
              "nome_discente           0\n",
              "sexo                    0\n",
              "ano_ingresso            0\n",
              "periodo_ingresso        0\n",
              "forma_ingresso          0\n",
              "tipo_discente           0\n",
              "status                  0\n",
              "sigla_nivel_ensino      0\n",
              "nivel_ensino            0\n",
              "id_curso                0\n",
              "nome_curso              0\n",
              "modalidade_educacao     0\n",
              "id_unidade              0\n",
              "nome_unidade            0\n",
              "id_unidade_gestora      0\n",
              "nome_unidade_gestora    0\n",
              "dtype: int64"
            ]
          },
          "metadata": {
            "tags": []
          },
          "execution_count": 7
        }
      ]
    },
    {
      "cell_type": "markdown",
      "metadata": {
        "id": "lZVYd9Zoo0EH",
        "colab_type": "text"
      },
      "source": [
        "As we have no missing data, we can proceed with the analysis:"
      ]
    },
    {
      "cell_type": "code",
      "metadata": {
        "id": "F5ykV2zvpnoh",
        "colab_type": "code",
        "outputId": "642a2fdf-1977-465e-a81d-1e33b306e067",
        "colab": {
          "base_uri": "https://localhost:8080/",
          "height": 153
        }
      },
      "source": [
        "data_imd.groupby(\"ano_ingresso\").size()"
      ],
      "execution_count": 0,
      "outputs": [
        {
          "output_type": "execute_result",
          "data": {
            "text/plain": [
              "ano_ingresso\n",
              "2014    1809\n",
              "2015    1885\n",
              "2016    1728\n",
              "2017    2382\n",
              "2018    1140\n",
              "2019    1136\n",
              "dtype: int64"
            ]
          },
          "metadata": {
            "tags": []
          },
          "execution_count": 185
        }
      ]
    },
    {
      "cell_type": "markdown",
      "metadata": {
        "id": "f07IbiwDqAw5",
        "colab_type": "text"
      },
      "source": [
        "We can too agroup considering multiple data carachteristics:"
      ]
    },
    {
      "cell_type": "code",
      "metadata": {
        "id": "mffc87jms2Kw",
        "colab_type": "code",
        "outputId": "6e58f974-6c75-4ec4-d20c-9a6d4d426aa8",
        "colab": {
          "base_uri": "https://localhost:8080/",
          "height": 1000
        }
      },
      "source": [
        "data_imd.groupby([\"nome_curso\",\"ano_ingresso\",\"sexo\"]).size()"
      ],
      "execution_count": 0,
      "outputs": [
        {
          "output_type": "execute_result",
          "data": {
            "text/plain": [
              "nome_curso                                                                      ano_ingresso  sexo \n",
              "CURSO TÉCNICO DA METRÓPOLE DIGITAL                                              2014          F         408\n",
              "                                                                                              M        1127\n",
              "                                                                                2015          F         406\n",
              "                                                                                              M        1115\n",
              "                                                                                              false       1\n",
              "                                                                                2016          F         302\n",
              "                                                                                              M        1028\n",
              "                                                                                2017          F         709\n",
              "                                                                                              M        1268\n",
              "                                                                                2018          F         150\n",
              "                                                                                              M         554\n",
              "                                                                                2019          F         149\n",
              "                                                                                              M         547\n",
              "ESPECIALIZAÇÃO EM BIG DATA                                                      2016          F           6\n",
              "                                                                                              M          23\n",
              "ESPECIALIZAÇÃO EM DESENVOLVIMENTO DE APLICAÇÕES PARA DISPOSITIVOS MÓVEIS        2015          M           4\n",
              "                                                                                2016          M          20\n",
              "ESPECIALIZAÇÃO EM DESENVOLVIMENTO PARA DISPOSITIVOS MÓVEIS                      2015          M          26\n",
              "                                                                                2018          F           1\n",
              "                                                                                              M          23\n",
              "ESPECIALIZAÇÃO EM DIREITO DA INOVAÇÃO TECNOLÓGICA                               2019          F          11\n",
              "                                                                                              M          20\n",
              "ESPECIALIZAÇÃO EM SISTEMAS EMBARCADOS PARA INTERNET DAS COISAS                  2018          M          21\n",
              "RESIDÊNCIA EM TECNOLOGIA DA INFORMAÇÃO - TCE/RN - TURMA 02                      2019          M          21\n",
              "RESIDÊNCIA EM TECNOLOGIA DA INFORMAÇÃO - TURMA NUPLAM                           2019          F           2\n",
              "                                                                                              M          22\n",
              "RESIDÊNCIA EM TECNOLOGIA DA INFORMAÇÃO - TURMA TRE/RN                           2018          F           1\n",
              "                                                                                              M          37\n",
              "                                                                                2019          M           2\n",
              "RESIDÊNCIA EM TECNOLOGIA DA INFORMAÇÃO APLICADA À ÁREA JURÍDICA                 2017          F           4\n",
              "                                                                                              M          37\n",
              "                                                                                2018          F           1\n",
              "                                                                                              M           5\n",
              "RESIDÊNCIA EM TECNOLOGIA DA INFORMAÇÃO APLICADA À ÁREA JURÍDICA - TURMA JF      2017          F           2\n",
              "                                                                                              M          11\n",
              "                                                                                2018          F           1\n",
              "                                                                                              M           2\n",
              "                                                                                2019          F           2\n",
              "                                                                                              M          11\n",
              "RESIDÊNCIA EM TECNOLOGIA DA INFORMAÇÃO APLICADA À ÁREA JURÍDICA - TURMA TCE/RN  2017          F           1\n",
              "                                                                                              M          19\n",
              "                                                                                2018          M           3\n",
              "TECNOLOGIA DA INFORMAÇÃO                                                        2014          F          29\n",
              "                                                                                              M         245\n",
              "                                                                                2015          F          39\n",
              "                                                                                              M         294\n",
              "                                                                                2016          F          31\n",
              "                                                                                              M         318\n",
              "                                                                                2017          F          28\n",
              "                                                                                              M         303\n",
              "                                                                                2018          F          44\n",
              "                                                                                              M         297\n",
              "                                                                                2019          F          35\n",
              "                                                                                              M         314\n",
              "dtype: int64"
            ]
          },
          "metadata": {
            "tags": []
          },
          "execution_count": 10
        }
      ]
    },
    {
      "cell_type": "markdown",
      "metadata": {
        "id": "vfyXXozrs3UY",
        "colab_type": "text"
      },
      "source": [
        "To verify the existence of **invalid data**:\n",
        " "
      ]
    },
    {
      "cell_type": "code",
      "metadata": {
        "id": "ckvcD6BF563L",
        "colab_type": "code",
        "outputId": "4c57f328-3158-49a2-fa99-0df907d57841",
        "colab": {
          "base_uri": "https://localhost:8080/",
          "height": 34
        }
      },
      "source": [
        "data_imd = data_imd.query(\"sexo in ['M','F']\")\n",
        "data_imd.shape"
      ],
      "execution_count": 0,
      "outputs": [
        {
          "output_type": "execute_result",
          "data": {
            "text/plain": [
              "(10079, 17)"
            ]
          },
          "metadata": {
            "tags": []
          },
          "execution_count": 187
        }
      ]
    },
    {
      "cell_type": "code",
      "metadata": {
        "id": "uyu-V3Vs57sH",
        "colab_type": "code",
        "outputId": "5dd9e4fd-a826-4e34-934d-3f41dcaf9338",
        "colab": {
          "base_uri": "https://localhost:8080/",
          "height": 952
        }
      },
      "source": [
        "data_imd.groupby([\"nome_curso\",\"ano_ingresso\",\"sexo\"]).size()"
      ],
      "execution_count": 0,
      "outputs": [
        {
          "output_type": "execute_result",
          "data": {
            "text/plain": [
              "nome_curso                                                                      ano_ingresso  sexo\n",
              "CURSO TÉCNICO DA METRÓPOLE DIGITAL                                              2014          F        408\n",
              "                                                                                              M       1127\n",
              "                                                                                2015          F        406\n",
              "                                                                                              M       1115\n",
              "                                                                                2016          F        302\n",
              "                                                                                              M       1028\n",
              "                                                                                2017          F        709\n",
              "                                                                                              M       1268\n",
              "                                                                                2018          F        150\n",
              "                                                                                              M        554\n",
              "                                                                                2019          F        149\n",
              "                                                                                              M        547\n",
              "ESPECIALIZAÇÃO EM BIG DATA                                                      2016          F          6\n",
              "                                                                                              M         23\n",
              "ESPECIALIZAÇÃO EM DESENVOLVIMENTO DE APLICAÇÕES PARA DISPOSITIVOS MÓVEIS        2015          M          4\n",
              "                                                                                2016          M         20\n",
              "ESPECIALIZAÇÃO EM DESENVOLVIMENTO PARA DISPOSITIVOS MÓVEIS                      2015          M         26\n",
              "                                                                                2018          F          1\n",
              "                                                                                              M         23\n",
              "ESPECIALIZAÇÃO EM DIREITO DA INOVAÇÃO TECNOLÓGICA                               2019          F         11\n",
              "                                                                                              M         20\n",
              "ESPECIALIZAÇÃO EM SISTEMAS EMBARCADOS PARA INTERNET DAS COISAS                  2018          M         21\n",
              "RESIDÊNCIA EM TECNOLOGIA DA INFORMAÇÃO - TCE/RN - TURMA 02                      2019          M         21\n",
              "RESIDÊNCIA EM TECNOLOGIA DA INFORMAÇÃO - TURMA NUPLAM                           2019          F          2\n",
              "                                                                                              M         22\n",
              "RESIDÊNCIA EM TECNOLOGIA DA INFORMAÇÃO - TURMA TRE/RN                           2018          F          1\n",
              "                                                                                              M         37\n",
              "                                                                                2019          M          2\n",
              "RESIDÊNCIA EM TECNOLOGIA DA INFORMAÇÃO APLICADA À ÁREA JURÍDICA                 2017          F          4\n",
              "                                                                                              M         37\n",
              "                                                                                2018          F          1\n",
              "                                                                                              M          5\n",
              "RESIDÊNCIA EM TECNOLOGIA DA INFORMAÇÃO APLICADA À ÁREA JURÍDICA - TURMA JF      2017          F          2\n",
              "                                                                                              M         11\n",
              "                                                                                2018          F          1\n",
              "                                                                                              M          2\n",
              "                                                                                2019          F          2\n",
              "                                                                                              M         11\n",
              "RESIDÊNCIA EM TECNOLOGIA DA INFORMAÇÃO APLICADA À ÁREA JURÍDICA - TURMA TCE/RN  2017          F          1\n",
              "                                                                                              M         19\n",
              "                                                                                2018          M          3\n",
              "TECNOLOGIA DA INFORMAÇÃO                                                        2014          F         29\n",
              "                                                                                              M        245\n",
              "                                                                                2015          F         39\n",
              "                                                                                              M        294\n",
              "                                                                                2016          F         31\n",
              "                                                                                              M        318\n",
              "                                                                                2017          F         28\n",
              "                                                                                              M        303\n",
              "                                                                                2018          F         44\n",
              "                                                                                              M        297\n",
              "                                                                                2019          F         35\n",
              "                                                                                              M        314\n",
              "dtype: int64"
            ]
          },
          "metadata": {
            "tags": []
          },
          "execution_count": 188
        }
      ]
    },
    {
      "cell_type": "markdown",
      "metadata": {
        "id": "_hZ_ZSTh594F",
        "colab_type": "text"
      },
      "source": [
        "Let's restrict our analysis to the Bachelor of Information Technology (BTI).\n",
        "\n",
        "We do it filtering the data by the characteristic `nome_curso`:"
      ]
    },
    {
      "cell_type": "code",
      "metadata": {
        "id": "w8rWKKDY6CxY",
        "colab_type": "code",
        "colab": {}
      },
      "source": [
        "data_bti = data_imd.query(\"nome_curso == 'TECNOLOGIA DA INFORMAÇÃO'\")"
      ],
      "execution_count": 0,
      "outputs": []
    },
    {
      "cell_type": "code",
      "metadata": {
        "id": "UaxsrcJr6FJS",
        "colab_type": "code",
        "outputId": "65ef644d-2101-42aa-98de-8949d98346fc",
        "colab": {
          "base_uri": "https://localhost:8080/",
          "height": 255
        }
      },
      "source": [
        "aggregated_bti = data_bti.groupby([\"ano_ingresso\",\"sexo\"]).size()\n",
        "aggregated_bti"
      ],
      "execution_count": 0,
      "outputs": [
        {
          "output_type": "execute_result",
          "data": {
            "text/plain": [
              "ano_ingresso  sexo\n",
              "2014          F        29\n",
              "              M       245\n",
              "2015          F        39\n",
              "              M       294\n",
              "2016          F        31\n",
              "              M       318\n",
              "2017          F        28\n",
              "              M       303\n",
              "2018          F        44\n",
              "              M       297\n",
              "2019          F        35\n",
              "              M       314\n",
              "dtype: int64"
            ]
          },
          "metadata": {
            "tags": []
          },
          "execution_count": 190
        }
      ]
    },
    {
      "cell_type": "markdown",
      "metadata": {
        "id": "PVJaDZwJ6HqO",
        "colab_type": "text"
      },
      "source": [
        "As the number of newcomers varies, is just possible to compare different years in relative terms.\n",
        "\n",
        "For that, Pandas offers the method `crosstab`, which option `normalize` determines if the counting of frequency will be normalized and how.\n",
        "\n",
        "In this case, the normalization will be made by the characteristic horizontally listed (indexes):"
      ]
    },
    {
      "cell_type": "code",
      "metadata": {
        "id": "X-aDxCed6KeP",
        "colab_type": "code",
        "outputId": "360d484a-cf76-46d6-9c62-fe4d86ae1fd8",
        "colab": {
          "base_uri": "https://localhost:8080/",
          "height": 266
        }
      },
      "source": [
        "percentage_bti = pd.crosstab(data_bti[\"ano_ingresso\"], data_bti[\"sexo\"], normalize=\"index\")\n",
        "percentage_bti"
      ],
      "execution_count": 0,
      "outputs": [
        {
          "output_type": "execute_result",
          "data": {
            "text/html": [
              "<div>\n",
              "<style scoped>\n",
              "    .dataframe tbody tr th:only-of-type {\n",
              "        vertical-align: middle;\n",
              "    }\n",
              "\n",
              "    .dataframe tbody tr th {\n",
              "        vertical-align: top;\n",
              "    }\n",
              "\n",
              "    .dataframe thead th {\n",
              "        text-align: right;\n",
              "    }\n",
              "</style>\n",
              "<table border=\"1\" class=\"dataframe\">\n",
              "  <thead>\n",
              "    <tr style=\"text-align: right;\">\n",
              "      <th>sexo</th>\n",
              "      <th>F</th>\n",
              "      <th>M</th>\n",
              "    </tr>\n",
              "    <tr>\n",
              "      <th>ano_ingresso</th>\n",
              "      <th></th>\n",
              "      <th></th>\n",
              "    </tr>\n",
              "  </thead>\n",
              "  <tbody>\n",
              "    <tr>\n",
              "      <th>2014</th>\n",
              "      <td>0.105839</td>\n",
              "      <td>0.894161</td>\n",
              "    </tr>\n",
              "    <tr>\n",
              "      <th>2015</th>\n",
              "      <td>0.117117</td>\n",
              "      <td>0.882883</td>\n",
              "    </tr>\n",
              "    <tr>\n",
              "      <th>2016</th>\n",
              "      <td>0.088825</td>\n",
              "      <td>0.911175</td>\n",
              "    </tr>\n",
              "    <tr>\n",
              "      <th>2017</th>\n",
              "      <td>0.084592</td>\n",
              "      <td>0.915408</td>\n",
              "    </tr>\n",
              "    <tr>\n",
              "      <th>2018</th>\n",
              "      <td>0.129032</td>\n",
              "      <td>0.870968</td>\n",
              "    </tr>\n",
              "    <tr>\n",
              "      <th>2019</th>\n",
              "      <td>0.100287</td>\n",
              "      <td>0.899713</td>\n",
              "    </tr>\n",
              "  </tbody>\n",
              "</table>\n",
              "</div>"
            ],
            "text/plain": [
              "sexo                 F         M\n",
              "ano_ingresso                    \n",
              "2014          0.105839  0.894161\n",
              "2015          0.117117  0.882883\n",
              "2016          0.088825  0.911175\n",
              "2017          0.084592  0.915408\n",
              "2018          0.129032  0.870968\n",
              "2019          0.100287  0.899713"
            ]
          },
          "metadata": {
            "tags": []
          },
          "execution_count": 191
        }
      ]
    },
    {
      "cell_type": "markdown",
      "metadata": {
        "id": "FOi7i9R6Sy4l",
        "colab_type": "text"
      },
      "source": [
        "Note that now the sum of each possible value for the characteristic `sexo` on a given year is equals to 1 (which represents 100% of the data of that year).\n",
        "\n",
        "We're not so good on diversity in BTI, huh? :(\n",
        "\n",
        "Let's generate a graphic of lines to view a evolution of this (lack of) diversity over the considered years.\n",
        "\n",
        "For this, besides the `matplotlib`, we'll need the library `seaborn`.\n",
        "\n",
        "By convention, we import the library `seaborn` as `sns` e use the method `set()` to active the default settings."
      ]
    },
    {
      "cell_type": "code",
      "metadata": {
        "id": "p0H7y8Ju6SgS",
        "colab_type": "code",
        "colab": {}
      },
      "source": [
        "import matplotlib.pyplot as plt\n",
        "import seaborn as sns\n",
        "sns.set()"
      ],
      "execution_count": 0,
      "outputs": []
    },
    {
      "cell_type": "markdown",
      "metadata": {
        "id": "7ObCMQs1aMbj",
        "colab_type": "text"
      },
      "source": [
        "We made the line graph using the method `lineplot`, where we must inform, through the argument `data`, the data that we intend to plot.\n",
        "\n",
        "Besides that, let's associate a name to the line's graph to be able to configurate the interval used in axis y through the method `set(ylim=(start, end))`:"
      ]
    },
    {
      "cell_type": "code",
      "metadata": {
        "id": "-Yfhf3xs6V7t",
        "colab_type": "code",
        "outputId": "44ad7f57-1e47-48e2-fe7a-dfc1fa2bb3ff",
        "colab": {
          "base_uri": "https://localhost:8080/",
          "height": 434
        }
      },
      "source": [
        "percentage_bti_female = percentage_bti[\"F\"]\n",
        "plt.figure(figsize=(12,6))\n",
        "plot_bti = sns.lineplot(data=percentage_bti_female)\n",
        "plot_bti.set(ylim=(0,1))\n",
        "plt.xlabel(\"Year\", fontsize=15)\n",
        "plt.ylabel(\"Percent\", fontsize=15)\n",
        "plt.title(\"Female students per year joined\", fontsize=19)"
      ],
      "execution_count": 0,
      "outputs": [
        {
          "output_type": "execute_result",
          "data": {
            "text/plain": [
              "Text(0.5, 1.0, 'Female students per year joined')"
            ]
          },
          "metadata": {
            "tags": []
          },
          "execution_count": 193
        },
        {
          "output_type": "display_data",
          "data": {
            "image/png": "[encoded data removed]",
            "text/plain": [
              "<Figure size 864x432 with 1 Axes>"
            ]
          },
          "metadata": {
            "tags": []
          }
        }
      ]
    },
    {
      "cell_type": "markdown",
      "metadata": {
        "colab_type": "text",
        "id": "jw7B3yLkIYRP"
      },
      "source": [
        "## Assesing the courses assoaciate the BTI "
      ]
    },
    {
      "cell_type": "markdown",
      "metadata": {
        "colab_type": "text",
        "id": "zFtf56ru4RUP"
      },
      "source": [
        "The above data is clearly unsatisfactory, but it needs to be analyzed in perspective.\n",
        "\n",
        "Initially, let's compare it with courses of second cycle of BTI."
      ]
    },
    {
      "cell_type": "code",
      "metadata": {
        "colab_type": "code",
        "id": "ahMJiHBY4RUZ",
        "colab": {}
      },
      "source": [
        "courses_ti = [\"TECNOLOGIA DA INFORMAÇÃO\",\"ENGENHARIA DE SOFTWARE\",\"CIÊNCIA DA COMPUTAÇÃO\"]\n",
        "data_ti = data.query(f\"nome_curso in {courses_ti}\")"
      ],
      "execution_count": 0,
      "outputs": []
    },
    {
      "cell_type": "markdown",
      "metadata": {
        "id": "CHeyocgEgyNc",
        "colab_type": "text"
      },
      "source": [
        "To start, let's check if the present values on this dataframe respect the listed possibilities for the characteristic `sexo`:"
      ]
    },
    {
      "cell_type": "code",
      "metadata": {
        "colab_type": "code",
        "id": "QhggMx3A4RU-",
        "outputId": "28e75b9f-d0d1-481d-b8d5-e2c297c239ef",
        "colab": {
          "base_uri": "https://localhost:8080/",
          "height": 341
        }
      },
      "source": [
        "data_ti.isnull().sum()"
      ],
      "execution_count": 0,
      "outputs": [
        {
          "output_type": "execute_result",
          "data": {
            "text/plain": [
              "matricula               0\n",
              "nome_discente           0\n",
              "sexo                    0\n",
              "ano_ingresso            0\n",
              "periodo_ingresso        0\n",
              "forma_ingresso          0\n",
              "tipo_discente           0\n",
              "status                  0\n",
              "sigla_nivel_ensino      0\n",
              "nivel_ensino            0\n",
              "id_curso                0\n",
              "nome_curso              0\n",
              "modalidade_educacao     0\n",
              "id_unidade              0\n",
              "nome_unidade            0\n",
              "id_unidade_gestora      0\n",
              "nome_unidade_gestora    0\n",
              "dtype: int64"
            ]
          },
          "metadata": {
            "tags": []
          },
          "execution_count": 15
        }
      ]
    },
    {
      "cell_type": "code",
      "metadata": {
        "colab_type": "code",
        "id": "-q9xhh-i4RVT",
        "outputId": "b0f3d2ea-c106-4a46-feab-4967b01f3b9b",
        "colab": {
          "base_uri": "https://localhost:8080/",
          "height": 35
        }
      },
      "source": [
        "data_ti.sexo.unique()"
      ],
      "execution_count": 0,
      "outputs": [
        {
          "output_type": "execute_result",
          "data": {
            "text/plain": [
              "array(['M', 'F'], dtype=object)"
            ]
          },
          "metadata": {
            "tags": []
          },
          "execution_count": 16
        }
      ]
    },
    {
      "cell_type": "markdown",
      "metadata": {
        "id": "veevhSGGhlkA",
        "colab_type": "text"
      },
      "source": [
        "Now we can calculate the absolut e relative values for each of the these courses:"
      ]
    },
    {
      "cell_type": "code",
      "metadata": {
        "colab_type": "code",
        "id": "Jlnqxy-L4RVo",
        "outputId": "dee0e643-3979-40ec-830e-fd4d9043c5aa",
        "colab": {
          "base_uri": "https://localhost:8080/",
          "height": 539
        }
      },
      "source": [
        "aggregated_ti = data_ti.groupby(['nome_curso','ano_ingresso','sexo']).size()\n",
        "aggregated_ti"
      ],
      "execution_count": 0,
      "outputs": [
        {
          "output_type": "execute_result",
          "data": {
            "text/plain": [
              "nome_curso                ano_ingresso  sexo\n",
              "CIÊNCIA DA COMPUTAÇÃO     2016          F         1\n",
              "                                        M         3\n",
              "                          2017          F         3\n",
              "                                        M        11\n",
              "                          2018          F         6\n",
              "                                        M        21\n",
              "                          2019          M        11\n",
              "ENGENHARIA DE SOFTWARE    2016          F         1\n",
              "                                        M         5\n",
              "                          2017          F         3\n",
              "                                        M        13\n",
              "                          2018          F         2\n",
              "                                        M        26\n",
              "                          2019          F         6\n",
              "                                        M        21\n",
              "TECNOLOGIA DA INFORMAÇÃO  2014          F        29\n",
              "                                        M       245\n",
              "                          2015          F        39\n",
              "                                        M       294\n",
              "                          2016          F        31\n",
              "                                        M       318\n",
              "                          2017          F        28\n",
              "                                        M       303\n",
              "                          2018          F        44\n",
              "                                        M       297\n",
              "                          2019          F        35\n",
              "                                        M       314\n",
              "dtype: int64"
            ]
          },
          "metadata": {
            "tags": []
          },
          "execution_count": 17
        }
      ]
    },
    {
      "cell_type": "code",
      "metadata": {
        "colab_type": "code",
        "id": "Bv5ia1XE4RV3",
        "outputId": "5a6f1417-4e7f-4bf3-9c67-187f731e2c50",
        "colab": {
          "base_uri": "https://localhost:8080/",
          "height": 514
        }
      },
      "source": [
        "percentage_ti = pd.crosstab([data_ti['nome_curso'], data_ti['ano_ingresso']], data_ti['sexo'], normalize=\"index\")\n",
        "percentage_ti"
      ],
      "execution_count": 0,
      "outputs": [
        {
          "output_type": "execute_result",
          "data": {
            "text/html": [
              "<div>\n",
              "<style scoped>\n",
              "    .dataframe tbody tr th:only-of-type {\n",
              "        vertical-align: middle;\n",
              "    }\n",
              "\n",
              "    .dataframe tbody tr th {\n",
              "        vertical-align: top;\n",
              "    }\n",
              "\n",
              "    .dataframe thead th {\n",
              "        text-align: right;\n",
              "    }\n",
              "</style>\n",
              "<table border=\"1\" class=\"dataframe\">\n",
              "  <thead>\n",
              "    <tr style=\"text-align: right;\">\n",
              "      <th></th>\n",
              "      <th>sexo</th>\n",
              "      <th>F</th>\n",
              "      <th>M</th>\n",
              "    </tr>\n",
              "    <tr>\n",
              "      <th>nome_curso</th>\n",
              "      <th>ano_ingresso</th>\n",
              "      <th></th>\n",
              "      <th></th>\n",
              "    </tr>\n",
              "  </thead>\n",
              "  <tbody>\n",
              "    <tr>\n",
              "      <th rowspan=\"4\" valign=\"top\">CIÊNCIA DA COMPUTAÇÃO</th>\n",
              "      <th>2016</th>\n",
              "      <td>0.250000</td>\n",
              "      <td>0.750000</td>\n",
              "    </tr>\n",
              "    <tr>\n",
              "      <th>2017</th>\n",
              "      <td>0.214286</td>\n",
              "      <td>0.785714</td>\n",
              "    </tr>\n",
              "    <tr>\n",
              "      <th>2018</th>\n",
              "      <td>0.222222</td>\n",
              "      <td>0.777778</td>\n",
              "    </tr>\n",
              "    <tr>\n",
              "      <th>2019</th>\n",
              "      <td>0.000000</td>\n",
              "      <td>1.000000</td>\n",
              "    </tr>\n",
              "    <tr>\n",
              "      <th rowspan=\"4\" valign=\"top\">ENGENHARIA DE SOFTWARE</th>\n",
              "      <th>2016</th>\n",
              "      <td>0.166667</td>\n",
              "      <td>0.833333</td>\n",
              "    </tr>\n",
              "    <tr>\n",
              "      <th>2017</th>\n",
              "      <td>0.187500</td>\n",
              "      <td>0.812500</td>\n",
              "    </tr>\n",
              "    <tr>\n",
              "      <th>2018</th>\n",
              "      <td>0.071429</td>\n",
              "      <td>0.928571</td>\n",
              "    </tr>\n",
              "    <tr>\n",
              "      <th>2019</th>\n",
              "      <td>0.222222</td>\n",
              "      <td>0.777778</td>\n",
              "    </tr>\n",
              "    <tr>\n",
              "      <th rowspan=\"6\" valign=\"top\">TECNOLOGIA DA INFORMAÇÃO</th>\n",
              "      <th>2014</th>\n",
              "      <td>0.105839</td>\n",
              "      <td>0.894161</td>\n",
              "    </tr>\n",
              "    <tr>\n",
              "      <th>2015</th>\n",
              "      <td>0.117117</td>\n",
              "      <td>0.882883</td>\n",
              "    </tr>\n",
              "    <tr>\n",
              "      <th>2016</th>\n",
              "      <td>0.088825</td>\n",
              "      <td>0.911175</td>\n",
              "    </tr>\n",
              "    <tr>\n",
              "      <th>2017</th>\n",
              "      <td>0.084592</td>\n",
              "      <td>0.915408</td>\n",
              "    </tr>\n",
              "    <tr>\n",
              "      <th>2018</th>\n",
              "      <td>0.129032</td>\n",
              "      <td>0.870968</td>\n",
              "    </tr>\n",
              "    <tr>\n",
              "      <th>2019</th>\n",
              "      <td>0.100287</td>\n",
              "      <td>0.899713</td>\n",
              "    </tr>\n",
              "  </tbody>\n",
              "</table>\n",
              "</div>"
            ],
            "text/plain": [
              "sexo                                          F         M\n",
              "nome_curso               ano_ingresso                    \n",
              "CIÊNCIA DA COMPUTAÇÃO    2016          0.250000  0.750000\n",
              "                         2017          0.214286  0.785714\n",
              "                         2018          0.222222  0.777778\n",
              "                         2019          0.000000  1.000000\n",
              "ENGENHARIA DE SOFTWARE   2016          0.166667  0.833333\n",
              "                         2017          0.187500  0.812500\n",
              "                         2018          0.071429  0.928571\n",
              "                         2019          0.222222  0.777778\n",
              "TECNOLOGIA DA INFORMAÇÃO 2014          0.105839  0.894161\n",
              "                         2015          0.117117  0.882883\n",
              "                         2016          0.088825  0.911175\n",
              "                         2017          0.084592  0.915408\n",
              "                         2018          0.129032  0.870968\n",
              "                         2019          0.100287  0.899713"
            ]
          },
          "metadata": {
            "tags": []
          },
          "execution_count": 18
        }
      ]
    },
    {
      "cell_type": "markdown",
      "metadata": {
        "colab_type": "text",
        "id": "hWgLIAz44RWH"
      },
      "source": [
        "Note that for computer science and software engineer courses there's no data for the years 2014 and 2015.\n",
        "\n",
        "Besides that, there was no entry of female students in computer science in 2019.\n",
        "\n",
        "So let's consider the data for male gender since 2016:"
      ]
    },
    {
      "cell_type": "code",
      "metadata": {
        "colab_type": "code",
        "id": "X9pu9JZc4RWL",
        "outputId": "f35d051f-1591-4f8d-f498-03701e8122b0",
        "colab": {
          "base_uri": "https://localhost:8080/",
          "height": 269
        }
      },
      "source": [
        "percentage_ti_male = percentage_ti.query(\"ano_ingresso >= 2016\")[\"M\"]\n",
        "percentage_ti_male"
      ],
      "execution_count": 0,
      "outputs": [
        {
          "output_type": "execute_result",
          "data": {
            "text/plain": [
              "nome_curso                ano_ingresso\n",
              "CIÊNCIA DA COMPUTAÇÃO     2016            0.750000\n",
              "                          2017            0.785714\n",
              "                          2018            0.777778\n",
              "                          2019            1.000000\n",
              "ENGENHARIA DE SOFTWARE    2016            0.833333\n",
              "                          2017            0.812500\n",
              "                          2018            0.928571\n",
              "                          2019            0.777778\n",
              "TECNOLOGIA DA INFORMAÇÃO  2016            0.911175\n",
              "                          2017            0.915408\n",
              "                          2018            0.870968\n",
              "                          2019            0.899713\n",
              "Name: M, dtype: float64"
            ]
          },
          "metadata": {
            "tags": []
          },
          "execution_count": 19
        }
      ]
    },
    {
      "cell_type": "markdown",
      "metadata": {
        "colab_type": "text",
        "id": "HegrqGLV4RWc"
      },
      "source": [
        "A series produced from a set of multiple characteristics presents a hierarchical index.\n",
        "\n",
        "The Pandas allows to convert a series like that in a dataframe using the method `reset_index()`\n",
        "\n",
        "The names of the columns are reused from the hierarchical index. The last column can be named using the argument `name`:"
      ]
    },
    {
      "cell_type": "code",
      "metadata": {
        "colab_type": "code",
        "id": "frt1NWRJ4RWh",
        "outputId": "7c021465-5ff6-4405-a63e-c74c3ebf54ba",
        "colab": {
          "base_uri": "https://localhost:8080/",
          "height": 421
        }
      },
      "source": [
        "data_ti_male = percentage_ti_male.reset_index(name=\"total\")\n",
        "data_ti_male"
      ],
      "execution_count": 0,
      "outputs": [
        {
          "output_type": "execute_result",
          "data": {
            "text/html": [
              "<div>\n",
              "<style scoped>\n",
              "    .dataframe tbody tr th:only-of-type {\n",
              "        vertical-align: middle;\n",
              "    }\n",
              "\n",
              "    .dataframe tbody tr th {\n",
              "        vertical-align: top;\n",
              "    }\n",
              "\n",
              "    .dataframe thead th {\n",
              "        text-align: right;\n",
              "    }\n",
              "</style>\n",
              "<table border=\"1\" class=\"dataframe\">\n",
              "  <thead>\n",
              "    <tr style=\"text-align: right;\">\n",
              "      <th></th>\n",
              "      <th>nome_curso</th>\n",
              "      <th>ano_ingresso</th>\n",
              "      <th>total</th>\n",
              "    </tr>\n",
              "  </thead>\n",
              "  <tbody>\n",
              "    <tr>\n",
              "      <th>0</th>\n",
              "      <td>CIÊNCIA DA COMPUTAÇÃO</td>\n",
              "      <td>2016</td>\n",
              "      <td>0.750000</td>\n",
              "    </tr>\n",
              "    <tr>\n",
              "      <th>1</th>\n",
              "      <td>CIÊNCIA DA COMPUTAÇÃO</td>\n",
              "      <td>2017</td>\n",
              "      <td>0.785714</td>\n",
              "    </tr>\n",
              "    <tr>\n",
              "      <th>2</th>\n",
              "      <td>CIÊNCIA DA COMPUTAÇÃO</td>\n",
              "      <td>2018</td>\n",
              "      <td>0.777778</td>\n",
              "    </tr>\n",
              "    <tr>\n",
              "      <th>3</th>\n",
              "      <td>CIÊNCIA DA COMPUTAÇÃO</td>\n",
              "      <td>2019</td>\n",
              "      <td>1.000000</td>\n",
              "    </tr>\n",
              "    <tr>\n",
              "      <th>4</th>\n",
              "      <td>ENGENHARIA DE SOFTWARE</td>\n",
              "      <td>2016</td>\n",
              "      <td>0.833333</td>\n",
              "    </tr>\n",
              "    <tr>\n",
              "      <th>5</th>\n",
              "      <td>ENGENHARIA DE SOFTWARE</td>\n",
              "      <td>2017</td>\n",
              "      <td>0.812500</td>\n",
              "    </tr>\n",
              "    <tr>\n",
              "      <th>6</th>\n",
              "      <td>ENGENHARIA DE SOFTWARE</td>\n",
              "      <td>2018</td>\n",
              "      <td>0.928571</td>\n",
              "    </tr>\n",
              "    <tr>\n",
              "      <th>7</th>\n",
              "      <td>ENGENHARIA DE SOFTWARE</td>\n",
              "      <td>2019</td>\n",
              "      <td>0.777778</td>\n",
              "    </tr>\n",
              "    <tr>\n",
              "      <th>8</th>\n",
              "      <td>TECNOLOGIA DA INFORMAÇÃO</td>\n",
              "      <td>2016</td>\n",
              "      <td>0.911175</td>\n",
              "    </tr>\n",
              "    <tr>\n",
              "      <th>9</th>\n",
              "      <td>TECNOLOGIA DA INFORMAÇÃO</td>\n",
              "      <td>2017</td>\n",
              "      <td>0.915408</td>\n",
              "    </tr>\n",
              "    <tr>\n",
              "      <th>10</th>\n",
              "      <td>TECNOLOGIA DA INFORMAÇÃO</td>\n",
              "      <td>2018</td>\n",
              "      <td>0.870968</td>\n",
              "    </tr>\n",
              "    <tr>\n",
              "      <th>11</th>\n",
              "      <td>TECNOLOGIA DA INFORMAÇÃO</td>\n",
              "      <td>2019</td>\n",
              "      <td>0.899713</td>\n",
              "    </tr>\n",
              "  </tbody>\n",
              "</table>\n",
              "</div>"
            ],
            "text/plain": [
              "                  nome_curso  ano_ingresso     total\n",
              "0      CIÊNCIA DA COMPUTAÇÃO          2016  0.750000\n",
              "1      CIÊNCIA DA COMPUTAÇÃO          2017  0.785714\n",
              "2      CIÊNCIA DA COMPUTAÇÃO          2018  0.777778\n",
              "3      CIÊNCIA DA COMPUTAÇÃO          2019  1.000000\n",
              "4     ENGENHARIA DE SOFTWARE          2016  0.833333\n",
              "5     ENGENHARIA DE SOFTWARE          2017  0.812500\n",
              "6     ENGENHARIA DE SOFTWARE          2018  0.928571\n",
              "7     ENGENHARIA DE SOFTWARE          2019  0.777778\n",
              "8   TECNOLOGIA DA INFORMAÇÃO          2016  0.911175\n",
              "9   TECNOLOGIA DA INFORMAÇÃO          2017  0.915408\n",
              "10  TECNOLOGIA DA INFORMAÇÃO          2018  0.870968\n",
              "11  TECNOLOGIA DA INFORMAÇÃO          2019  0.899713"
            ]
          },
          "metadata": {
            "tags": []
          },
          "execution_count": 20
        }
      ]
    },
    {
      "cell_type": "markdown",
      "metadata": {
        "colab_type": "text",
        "id": "OD6-qCg94RWy"
      },
      "source": [
        "With the organized data, now we can calculate the average of male participation on the courses associated to the BTI considering the period 2016-2019:"
      ]
    },
    {
      "cell_type": "code",
      "metadata": {
        "colab_type": "code",
        "id": "0OflFG1p4RW2",
        "outputId": "2bbcabbb-2c10-4c86-bdd2-63152d819271",
        "colab": {
          "base_uri": "https://localhost:8080/",
          "height": 173
        }
      },
      "source": [
        "data_ti_male.groupby(\"nome_curso\").mean()"
      ],
      "execution_count": 0,
      "outputs": [
        {
          "output_type": "execute_result",
          "data": {
            "text/html": [
              "<div>\n",
              "<style scoped>\n",
              "    .dataframe tbody tr th:only-of-type {\n",
              "        vertical-align: middle;\n",
              "    }\n",
              "\n",
              "    .dataframe tbody tr th {\n",
              "        vertical-align: top;\n",
              "    }\n",
              "\n",
              "    .dataframe thead th {\n",
              "        text-align: right;\n",
              "    }\n",
              "</style>\n",
              "<table border=\"1\" class=\"dataframe\">\n",
              "  <thead>\n",
              "    <tr style=\"text-align: right;\">\n",
              "      <th></th>\n",
              "      <th>ano_ingresso</th>\n",
              "      <th>total</th>\n",
              "    </tr>\n",
              "    <tr>\n",
              "      <th>nome_curso</th>\n",
              "      <th></th>\n",
              "      <th></th>\n",
              "    </tr>\n",
              "  </thead>\n",
              "  <tbody>\n",
              "    <tr>\n",
              "      <th>CIÊNCIA DA COMPUTAÇÃO</th>\n",
              "      <td>2017.5</td>\n",
              "      <td>0.828373</td>\n",
              "    </tr>\n",
              "    <tr>\n",
              "      <th>ENGENHARIA DE SOFTWARE</th>\n",
              "      <td>2017.5</td>\n",
              "      <td>0.838046</td>\n",
              "    </tr>\n",
              "    <tr>\n",
              "      <th>TECNOLOGIA DA INFORMAÇÃO</th>\n",
              "      <td>2017.5</td>\n",
              "      <td>0.899316</td>\n",
              "    </tr>\n",
              "  </tbody>\n",
              "</table>\n",
              "</div>"
            ],
            "text/plain": [
              "                          ano_ingresso     total\n",
              "nome_curso                                      \n",
              "CIÊNCIA DA COMPUTAÇÃO           2017.5  0.828373\n",
              "ENGENHARIA DE SOFTWARE          2017.5  0.838046\n",
              "TECNOLOGIA DA INFORMAÇÃO        2017.5  0.899316"
            ]
          },
          "metadata": {
            "tags": []
          },
          "execution_count": 21
        }
      ]
    },
    {
      "cell_type": "markdown",
      "metadata": {
        "colab_type": "text",
        "id": "wjkMAQ2B4RXB"
      },
      "source": [
        "Note that is also being calculated the average of the column `ano_ingresso`.\n",
        "\n",
        "It happens because, when reading the datasets from UFRN, the Pandas noticed that should configurate the column as numeric.\n",
        "\n",
        "If we want to avoid this, we should use the Pandas to treat this columns as a ordinal resource:"
      ]
    },
    {
      "cell_type": "code",
      "metadata": {
        "colab_type": "code",
        "id": "PzWPbcG04RXF",
        "outputId": "9efe7ce5-6f61-4a92-8757-68c34f2ef29e",
        "colab": {
          "base_uri": "https://localhost:8080/",
          "height": 173
        }
      },
      "source": [
        "data_ti_male.ano_ingresso = data_ti_male.ano_ingresso.astype(str)\n",
        "data_ti_male.groupby(\"nome_curso\").mean()"
      ],
      "execution_count": 0,
      "outputs": [
        {
          "output_type": "execute_result",
          "data": {
            "text/html": [
              "<div>\n",
              "<style scoped>\n",
              "    .dataframe tbody tr th:only-of-type {\n",
              "        vertical-align: middle;\n",
              "    }\n",
              "\n",
              "    .dataframe tbody tr th {\n",
              "        vertical-align: top;\n",
              "    }\n",
              "\n",
              "    .dataframe thead th {\n",
              "        text-align: right;\n",
              "    }\n",
              "</style>\n",
              "<table border=\"1\" class=\"dataframe\">\n",
              "  <thead>\n",
              "    <tr style=\"text-align: right;\">\n",
              "      <th></th>\n",
              "      <th>total</th>\n",
              "    </tr>\n",
              "    <tr>\n",
              "      <th>nome_curso</th>\n",
              "      <th></th>\n",
              "    </tr>\n",
              "  </thead>\n",
              "  <tbody>\n",
              "    <tr>\n",
              "      <th>CIÊNCIA DA COMPUTAÇÃO</th>\n",
              "      <td>0.828373</td>\n",
              "    </tr>\n",
              "    <tr>\n",
              "      <th>ENGENHARIA DE SOFTWARE</th>\n",
              "      <td>0.838046</td>\n",
              "    </tr>\n",
              "    <tr>\n",
              "      <th>TECNOLOGIA DA INFORMAÇÃO</th>\n",
              "      <td>0.899316</td>\n",
              "    </tr>\n",
              "  </tbody>\n",
              "</table>\n",
              "</div>"
            ],
            "text/plain": [
              "                             total\n",
              "nome_curso                        \n",
              "CIÊNCIA DA COMPUTAÇÃO     0.828373\n",
              "ENGENHARIA DE SOFTWARE    0.838046\n",
              "TECNOLOGIA DA INFORMAÇÃO  0.899316"
            ]
          },
          "metadata": {
            "tags": []
          },
          "execution_count": 202
        }
      ]
    },
    {
      "cell_type": "markdown",
      "metadata": {
        "colab_type": "text",
        "id": "aVx60Lxl4RXU"
      },
      "source": [
        "In mean, the three courses present a unsatisfactory diversity. However, it's clear that the courses from the second cycle present a less critical situation than the BTI.\n",
        "\n",
        "Let's look the evolution of this fact on the three courses using the `lineplot()` one more time.\n",
        "\n",
        "On this example, let's configure the size of the graph using the method `plt.figure(figsize=(largura, altura))`."
      ]
    },
    {
      "cell_type": "code",
      "metadata": {
        "colab_type": "code",
        "id": "uijt0VUm4RXZ",
        "outputId": "a88aef8f-b78a-4c7e-a364-a61442b14859",
        "colab": {
          "base_uri": "https://localhost:8080/",
          "height": 454
        }
      },
      "source": [
        "plt.figure(figsize=(12, 6))\n",
        "plot_it = sns.lineplot(x=\"ano_ingresso\", y=\"total\", hue=\"nome_curso\", data=data_ti_male)\n",
        "plot_it.set(ylim=(0,1))\n",
        "plt.xlabel(\"Year\", fontsize=15)\n",
        "plt.ylabel(\"Percent\", fontsize=15)\n",
        "plt.title(\"Male students per year joined\", fontsize=19)"
      ],
      "execution_count": 0,
      "outputs": [
        {
          "output_type": "execute_result",
          "data": {
            "text/plain": [
              "Text(0.5, 1.0, 'Male students per year joined')"
            ]
          },
          "metadata": {
            "tags": []
          },
          "execution_count": 236
        },
        {
          "output_type": "display_data",
          "data": {
            "image/png": "[encoded data removed]",
            "text/plain": [
              "<Figure size 864x432 with 1 Axes>"
            ]
          },
          "metadata": {
            "tags": []
          }
        }
      ]
    },
    {
      "cell_type": "markdown",
      "metadata": {
        "colab_type": "text",
        "id": "uuRs9e9S14Fc"
      },
      "source": [
        "## Assesing the diversity at UFRN "
      ]
    },
    {
      "cell_type": "markdown",
      "metadata": {
        "colab_type": "text",
        "id": "M1GDHmvi14Fe"
      },
      "source": [
        "As we can see, the diversity in courses related to BTI is not going well.\n",
        "\n",
        "But is this the most general reality at UFRN?\n",
        "\n",
        "We will expand our analysis to consider all academic units at the university.\n",
        "\n",
        "Again, we start by checking for missing data:"
      ]
    },
    {
      "cell_type": "code",
      "metadata": {
        "colab_type": "code",
        "id": "gK1i5_en14Ff",
        "outputId": "2aabe611-9a0b-4af1-e739-027accb09948",
        "colab": {
          "base_uri": "https://localhost:8080/",
          "height": 323
        }
      },
      "source": [
        "data.isnull().sum()"
      ],
      "execution_count": 0,
      "outputs": [
        {
          "output_type": "execute_result",
          "data": {
            "text/plain": [
              "matricula                  0\n",
              "nome_discente              0\n",
              "sexo                       0\n",
              "ano_ingresso               0\n",
              "periodo_ingresso         237\n",
              "forma_ingresso           218\n",
              "tipo_discente              0\n",
              "status                     0\n",
              "sigla_nivel_ensino         0\n",
              "nivel_ensino               0\n",
              "id_curso                8633\n",
              "nome_curso              8633\n",
              "modalidade_educacao     8633\n",
              "id_unidade              8633\n",
              "nome_unidade            8633\n",
              "id_unidade_gestora      8633\n",
              "nome_unidade_gestora    8633\n",
              "dtype: int64"
            ]
          },
          "metadata": {
            "tags": []
          },
          "execution_count": 204
        }
      ]
    },
    {
      "cell_type": "markdown",
      "metadata": {
        "colab_type": "text",
        "id": "TXMrpkPS14Fk"
      },
      "source": [
        "When we identify the absence of data, we can try to fill it out or discard the affected observations.\n",
        "\n",
        "For the amount of data that is missing, try to fill that data becomes difficult.\n",
        "\n",
        "Therefore, we will choose to analyze only the cases in which the name of the unit was informed:"
      ]
    },
    {
      "cell_type": "code",
      "metadata": {
        "colab_type": "code",
        "id": "XhSSPB4N14Fm",
        "colab": {}
      },
      "source": [
        "data_not_null = data[~data[\"nome_unidade\"].isnull()]"
      ],
      "execution_count": 0,
      "outputs": []
    },
    {
      "cell_type": "markdown",
      "metadata": {
        "colab_type": "text",
        "id": "l_U4L5u_14Fq"
      },
      "source": [
        "Another important feature is to limit our analysis to undergraduate courses:"
      ]
    },
    {
      "cell_type": "code",
      "metadata": {
        "colab_type": "code",
        "id": "reHMT8tp14Fs",
        "colab": {}
      },
      "source": [
        "data_graduation = data_not_null.query(\"nivel_ensino == 'GRADUAÇÃO'\")"
      ],
      "execution_count": 0,
      "outputs": []
    },
    {
      "cell_type": "markdown",
      "metadata": {
        "colab_type": "text",
        "id": "ppTyPoKj14Fw"
      },
      "source": [
        "After these filters, let's see how many units are left.\n",
        "\n",
        "We can do this using the `len` procedure, which counts the number of elements in a list:"
      ]
    },
    {
      "cell_type": "code",
      "metadata": {
        "colab_type": "code",
        "id": "3YA_0mAk14Fx",
        "outputId": "063eb9ff-a4e4-47ea-d3a6-55bb22475673",
        "colab": {
          "base_uri": "https://localhost:8080/",
          "height": 34
        }
      },
      "source": [
        "unit_names = data_graduation[\"nome_unidade\"].unique()\n",
        "len(unit_names)"
      ],
      "execution_count": 0,
      "outputs": [
        {
          "output_type": "execute_result",
          "data": {
            "text/plain": [
              "15"
            ]
          },
          "metadata": {
            "tags": []
          },
          "execution_count": 207
        }
      ]
    },
    {
      "cell_type": "code",
      "metadata": {
        "colab_type": "code",
        "id": "ugUZgnuJ14F0",
        "outputId": "58ff7303-4b1c-453d-fe7f-4aa8a7980a68",
        "colab": {
          "base_uri": "https://localhost:8080/",
          "height": 238
        }
      },
      "source": [
        "unit_names"
      ],
      "execution_count": 0,
      "outputs": [
        {
          "output_type": "execute_result",
          "data": {
            "text/plain": [
              "array(['CENTRO DE  ENSINO SUPERIOR DO SERIDÓ',\n",
              "       'CENTRO DE CIÊNCIAS HUMANAS, LETRAS E ARTES',\n",
              "       'CENTRO DE CIÊNCIAS DA SAÚDE',\n",
              "       'CENTRO DE CIÊNCIAS EXATAS E DA TERRA',\n",
              "       'ESCOLA DE CIÊNCIAS E TECNOLOGIA',\n",
              "       'CENTRO DE CIÊNCIAS SOCIAIS APLICADAS',\n",
              "       'INSTITUTO METROPOLE DIGITAL',\n",
              "       'FACULDADE DE CIÊNCIAS DA SAÚDE DO TRAIRI - FACISA',\n",
              "       'CENTRO DE EDUCAÇÃO', 'ESCOLA DE MÚSICA', 'CENTRO DE TECNOLOGIA',\n",
              "       'CENTRO DE BIOCIÊNCIAS', 'ESCOLA AGRÍCOLA DE JUNDIAÍ',\n",
              "       'ESCOLA DE SAÚDE',\n",
              "       'ESCOLA MULTICAMPI DE CIÊNCIAS MÉDICAS DO RIO GRANDE DO NORTE'],\n",
              "      dtype=object)"
            ]
          },
          "metadata": {
            "tags": []
          },
          "execution_count": 208
        }
      ]
    },
    {
      "cell_type": "markdown",
      "metadata": {
        "colab_type": "text",
        "id": "k7GtqAQ514F4"
      },
      "source": [
        "Still in the data validation step, we will see if there is invalid data in the characteristic `sexo`.\n",
        "\n",
        "We can do this using the `all (condition)` procedure, that evaluates if there has been no break in the reported condition:"
      ]
    },
    {
      "cell_type": "code",
      "metadata": {
        "colab_type": "code",
        "id": "54lTK5sO14F5",
        "outputId": "08c4a8bb-9a89-435c-fd92-56e0886f70d5",
        "colab": {
          "base_uri": "https://localhost:8080/",
          "height": 34
        }
      },
      "source": [
        "sex_condition = data_graduation[\"sexo\"].isin([\"M\",\"F\"])\n",
        "all(sex_condition)"
      ],
      "execution_count": 0,
      "outputs": [
        {
          "output_type": "execute_result",
          "data": {
            "text/plain": [
              "False"
            ]
          },
          "metadata": {
            "tags": []
          },
          "execution_count": 209
        }
      ]
    },
    {
      "cell_type": "markdown",
      "metadata": {
        "colab_type": "text",
        "id": "oBqUltGR14F9"
      },
      "source": [
        "We then maintain only the valid entries:"
      ]
    },
    {
      "cell_type": "code",
      "metadata": {
        "colab_type": "code",
        "id": "3A0TXMvh14F-",
        "colab": {}
      },
      "source": [
        "data_graduation = data_graduation[sex_condition]"
      ],
      "execution_count": 0,
      "outputs": []
    },
    {
      "cell_type": "markdown",
      "metadata": {
        "colab_type": "text",
        "id": "SmFQNgd-14GC"
      },
      "source": [
        "Based on previous experiences, what is the next step in our analysis?"
      ]
    },
    {
      "cell_type": "code",
      "metadata": {
        "colab_type": "code",
        "id": "bmSghBGp14GD",
        "outputId": "5fd0b03a-e085-455a-9ba2-bf2c14363fd7",
        "colab": {
          "base_uri": "https://localhost:8080/",
          "height": 562
        }
      },
      "source": [
        "percentage_graduation = pd.crosstab(data_graduation[\"nome_unidade\"], data_graduation[\"sexo\"], normalize=\"index\")\n",
        "percentage_graduation"
      ],
      "execution_count": 0,
      "outputs": [
        {
          "output_type": "execute_result",
          "data": {
            "text/html": [
              "<div>\n",
              "<style scoped>\n",
              "    .dataframe tbody tr th:only-of-type {\n",
              "        vertical-align: middle;\n",
              "    }\n",
              "\n",
              "    .dataframe tbody tr th {\n",
              "        vertical-align: top;\n",
              "    }\n",
              "\n",
              "    .dataframe thead th {\n",
              "        text-align: right;\n",
              "    }\n",
              "</style>\n",
              "<table border=\"1\" class=\"dataframe\">\n",
              "  <thead>\n",
              "    <tr style=\"text-align: right;\">\n",
              "      <th>sexo</th>\n",
              "      <th>F</th>\n",
              "      <th>M</th>\n",
              "    </tr>\n",
              "    <tr>\n",
              "      <th>nome_unidade</th>\n",
              "      <th></th>\n",
              "      <th></th>\n",
              "    </tr>\n",
              "  </thead>\n",
              "  <tbody>\n",
              "    <tr>\n",
              "      <th>CENTRO DE  ENSINO SUPERIOR DO SERIDÓ</th>\n",
              "      <td>0.480818</td>\n",
              "      <td>0.519182</td>\n",
              "    </tr>\n",
              "    <tr>\n",
              "      <th>CENTRO DE BIOCIÊNCIAS</th>\n",
              "      <td>0.554855</td>\n",
              "      <td>0.445145</td>\n",
              "    </tr>\n",
              "    <tr>\n",
              "      <th>CENTRO DE CIÊNCIAS DA SAÚDE</th>\n",
              "      <td>0.592482</td>\n",
              "      <td>0.407518</td>\n",
              "    </tr>\n",
              "    <tr>\n",
              "      <th>CENTRO DE CIÊNCIAS EXATAS E DA TERRA</th>\n",
              "      <td>0.310626</td>\n",
              "      <td>0.689374</td>\n",
              "    </tr>\n",
              "    <tr>\n",
              "      <th>CENTRO DE CIÊNCIAS HUMANAS, LETRAS E ARTES</th>\n",
              "      <td>0.494630</td>\n",
              "      <td>0.505370</td>\n",
              "    </tr>\n",
              "    <tr>\n",
              "      <th>CENTRO DE CIÊNCIAS SOCIAIS APLICADAS</th>\n",
              "      <td>0.465544</td>\n",
              "      <td>0.534456</td>\n",
              "    </tr>\n",
              "    <tr>\n",
              "      <th>CENTRO DE EDUCAÇÃO</th>\n",
              "      <td>0.767246</td>\n",
              "      <td>0.232754</td>\n",
              "    </tr>\n",
              "    <tr>\n",
              "      <th>CENTRO DE TECNOLOGIA</th>\n",
              "      <td>0.322049</td>\n",
              "      <td>0.677951</td>\n",
              "    </tr>\n",
              "    <tr>\n",
              "      <th>ESCOLA AGRÍCOLA DE JUNDIAÍ</th>\n",
              "      <td>0.381466</td>\n",
              "      <td>0.618534</td>\n",
              "    </tr>\n",
              "    <tr>\n",
              "      <th>ESCOLA DE CIÊNCIAS E TECNOLOGIA</th>\n",
              "      <td>0.229838</td>\n",
              "      <td>0.770162</td>\n",
              "    </tr>\n",
              "    <tr>\n",
              "      <th>ESCOLA DE MÚSICA</th>\n",
              "      <td>0.254808</td>\n",
              "      <td>0.745192</td>\n",
              "    </tr>\n",
              "    <tr>\n",
              "      <th>ESCOLA DE SAÚDE</th>\n",
              "      <td>0.698444</td>\n",
              "      <td>0.301556</td>\n",
              "    </tr>\n",
              "    <tr>\n",
              "      <th>ESCOLA MULTICAMPI DE CIÊNCIAS MÉDICAS DO RIO GRANDE DO NORTE</th>\n",
              "      <td>0.433594</td>\n",
              "      <td>0.566406</td>\n",
              "    </tr>\n",
              "    <tr>\n",
              "      <th>FACULDADE DE CIÊNCIAS DA SAÚDE DO TRAIRI - FACISA</th>\n",
              "      <td>0.708417</td>\n",
              "      <td>0.291583</td>\n",
              "    </tr>\n",
              "    <tr>\n",
              "      <th>INSTITUTO METROPOLE DIGITAL</th>\n",
              "      <td>0.104198</td>\n",
              "      <td>0.895802</td>\n",
              "    </tr>\n",
              "  </tbody>\n",
              "</table>\n",
              "</div>"
            ],
            "text/plain": [
              "sexo                                                       F         M\n",
              "nome_unidade                                                          \n",
              "CENTRO DE  ENSINO SUPERIOR DO SERIDÓ                0.480818  0.519182\n",
              "CENTRO DE BIOCIÊNCIAS                               0.554855  0.445145\n",
              "CENTRO DE CIÊNCIAS DA SAÚDE                         0.592482  0.407518\n",
              "CENTRO DE CIÊNCIAS EXATAS E DA TERRA                0.310626  0.689374\n",
              "CENTRO DE CIÊNCIAS HUMANAS, LETRAS E ARTES          0.494630  0.505370\n",
              "CENTRO DE CIÊNCIAS SOCIAIS APLICADAS                0.465544  0.534456\n",
              "CENTRO DE EDUCAÇÃO                                  0.767246  0.232754\n",
              "CENTRO DE TECNOLOGIA                                0.322049  0.677951\n",
              "ESCOLA AGRÍCOLA DE JUNDIAÍ                          0.381466  0.618534\n",
              "ESCOLA DE CIÊNCIAS E TECNOLOGIA                     0.229838  0.770162\n",
              "ESCOLA DE MÚSICA                                    0.254808  0.745192\n",
              "ESCOLA DE SAÚDE                                     0.698444  0.301556\n",
              "ESCOLA MULTICAMPI DE CIÊNCIAS MÉDICAS DO RIO GR...  0.433594  0.566406\n",
              "FACULDADE DE CIÊNCIAS DA SAÚDE DO TRAIRI - FACISA   0.708417  0.291583\n",
              "INSTITUTO METROPOLE DIGITAL                         0.104198  0.895802"
            ]
          },
          "metadata": {
            "tags": []
          },
          "execution_count": 211
        }
      ]
    },
    {
      "cell_type": "markdown",
      "metadata": {
        "colab_type": "text",
        "id": "o_2oEuFP14GH"
      },
      "source": [
        "We will isolate only the data referring to the female public.\n",
        "\n",
        "In addition, we will sort these values in ascending order using the `sort_values ()` method:"
      ]
    },
    {
      "cell_type": "code",
      "metadata": {
        "colab_type": "code",
        "id": "m63UO2un14GI",
        "outputId": "4852320b-d47a-428b-f2d2-a832b3a45e2c",
        "colab": {
          "base_uri": "https://localhost:8080/",
          "height": 306
        }
      },
      "source": [
        "data_female_graduation = percentage_graduation[\"F\"].sort_values()\n",
        "data_female_graduation"
      ],
      "execution_count": 0,
      "outputs": [
        {
          "output_type": "execute_result",
          "data": {
            "text/plain": [
              "nome_unidade\n",
              "INSTITUTO METROPOLE DIGITAL                                     0.104198\n",
              "ESCOLA DE CIÊNCIAS E TECNOLOGIA                                 0.229838\n",
              "ESCOLA DE MÚSICA                                                0.254808\n",
              "CENTRO DE CIÊNCIAS EXATAS E DA TERRA                            0.310626\n",
              "CENTRO DE TECNOLOGIA                                            0.322049\n",
              "ESCOLA AGRÍCOLA DE JUNDIAÍ                                      0.381466\n",
              "ESCOLA MULTICAMPI DE CIÊNCIAS MÉDICAS DO RIO GRANDE DO NORTE    0.433594\n",
              "CENTRO DE CIÊNCIAS SOCIAIS APLICADAS                            0.465544\n",
              "CENTRO DE  ENSINO SUPERIOR DO SERIDÓ                            0.480818\n",
              "CENTRO DE CIÊNCIAS HUMANAS, LETRAS E ARTES                      0.494630\n",
              "CENTRO DE BIOCIÊNCIAS                                           0.554855\n",
              "CENTRO DE CIÊNCIAS DA SAÚDE                                     0.592482\n",
              "ESCOLA DE SAÚDE                                                 0.698444\n",
              "FACULDADE DE CIÊNCIAS DA SAÚDE DO TRAIRI - FACISA               0.708417\n",
              "CENTRO DE EDUCAÇÃO                                              0.767246\n",
              "Name: F, dtype: float64"
            ]
          },
          "metadata": {
            "tags": []
          },
          "execution_count": 212
        }
      ]
    },
    {
      "cell_type": "markdown",
      "metadata": {
        "colab_type": "text",
        "id": "qZF85IAj14GL"
      },
      "source": [
        "The minimum and maximum values for the percentage of women are quite separate.\n",
        "\n",
        "Let's take a look at descriptive statistics about this series:"
      ]
    },
    {
      "cell_type": "code",
      "metadata": {
        "colab_type": "code",
        "id": "1PSBiw4F14GN",
        "outputId": "fd92b533-b0e0-4e1d-9359-f81e03470372",
        "colab": {
          "base_uri": "https://localhost:8080/",
          "height": 170
        }
      },
      "source": [
        "data_female_graduation.describe()"
      ],
      "execution_count": 0,
      "outputs": [
        {
          "output_type": "execute_result",
          "data": {
            "text/plain": [
              "count    15.000000\n",
              "mean      0.453268\n",
              "std       0.190934\n",
              "min       0.104198\n",
              "25%       0.316337\n",
              "50%       0.465544\n",
              "75%       0.573668\n",
              "max       0.767246\n",
              "Name: F, dtype: float64"
            ]
          },
          "metadata": {
            "tags": []
          },
          "execution_count": 213
        }
      ]
    },
    {
      "cell_type": "markdown",
      "metadata": {
        "colab_type": "text",
        "id": "5xEm7ClV14GR"
      },
      "source": [
        "The mean and median are close to 50%, which is an interesting data.\n",
        "\n",
        "However, the standard deviation of 20% is quite high.\n",
        "\n",
        "Let's see which courses were below the first quartile:"
      ]
    },
    {
      "cell_type": "code",
      "metadata": {
        "colab_type": "code",
        "id": "ndtrVJvN14GS",
        "outputId": "15c61821-94ac-4f17-ae2a-3615258fc18c",
        "colab": {
          "base_uri": "https://localhost:8080/",
          "height": 119
        }
      },
      "source": [
        "data_female_graduation[data_female_graduation <= data_female_graduation.quantile(0.25)]"
      ],
      "execution_count": 0,
      "outputs": [
        {
          "output_type": "execute_result",
          "data": {
            "text/plain": [
              "nome_unidade\n",
              "INSTITUTO METROPOLE DIGITAL             0.104198\n",
              "ESCOLA DE CIÊNCIAS E TECNOLOGIA         0.229838\n",
              "ESCOLA DE MÚSICA                        0.254808\n",
              "CENTRO DE CIÊNCIAS EXATAS E DA TERRA    0.310626\n",
              "Name: F, dtype: float64"
            ]
          },
          "metadata": {
            "tags": []
          },
          "execution_count": 214
        }
      ]
    },
    {
      "cell_type": "markdown",
      "metadata": {
        "colab_type": "text",
        "id": "HEyPX11E14GV"
      },
      "source": [
        "In general, they are courses related to exact sciences, engineering and technologies. \n",
        "\n",
        "This is a known reality, but it is surprising that music courses are also in this group.\n",
        "\n",
        "And which ones were above the third quartile?"
      ]
    },
    {
      "cell_type": "code",
      "metadata": {
        "colab_type": "code",
        "id": "s42QTosg14GW",
        "outputId": "c4dd1e31-669f-40cf-d002-5dd6086324d8",
        "colab": {
          "base_uri": "https://localhost:8080/",
          "height": 119
        }
      },
      "source": [
        "data_female_graduation[data_female_graduation >= data_female_graduation.quantile(0.75)]"
      ],
      "execution_count": 0,
      "outputs": [
        {
          "output_type": "execute_result",
          "data": {
            "text/plain": [
              "nome_unidade\n",
              "CENTRO DE CIÊNCIAS DA SAÚDE                          0.592482\n",
              "ESCOLA DE SAÚDE                                      0.698444\n",
              "FACULDADE DE CIÊNCIAS DA SAÚDE DO TRAIRI - FACISA    0.708417\n",
              "CENTRO DE EDUCAÇÃO                                   0.767246\n",
              "Name: F, dtype: float64"
            ]
          },
          "metadata": {
            "tags": []
          },
          "execution_count": 215
        }
      ]
    },
    {
      "cell_type": "markdown",
      "metadata": {
        "colab_type": "text",
        "id": "xerOp2px14Ga"
      },
      "source": [
        "Courses in the area of health and education, another reality assimilated at the university.\n",
        "\n",
        "To get the full view, let's use seaborn's `distplot` method to analyze the data distribution and compare it to a normal distribution.\n",
        "\n",
        "For this, we will need the norm method of the `scipy` library:"
      ]
    },
    {
      "cell_type": "code",
      "metadata": {
        "colab_type": "code",
        "id": "elgoG3oh14Gb",
        "colab": {}
      },
      "source": [
        "from scipy.stats import norm"
      ],
      "execution_count": 0,
      "outputs": []
    },
    {
      "cell_type": "code",
      "metadata": {
        "colab_type": "code",
        "id": "qVfO4Wht14Gg",
        "outputId": "85c6dacd-3b84-4476-f924-73f758d9ed9b",
        "colab": {
          "base_uri": "https://localhost:8080/",
          "height": 454
        }
      },
      "source": [
        "plt.figure(figsize=(12,6))\n",
        "sns.distplot(data_female_graduation, fit=norm, bins=10)\n",
        "plt.ylabel(\"Number of units\", fontsize=15)\n",
        "plt.xlabel(\"Percent\", fontsize=15)\n",
        "plt.title(\"Undergraduate female students by academic unit\", fontsize=19)"
      ],
      "execution_count": 0,
      "outputs": [
        {
          "output_type": "execute_result",
          "data": {
            "text/plain": [
              "Text(0.5, 1.0, 'Undergraduate female students by academic unit')"
            ]
          },
          "metadata": {
            "tags": []
          },
          "execution_count": 242
        },
        {
          "output_type": "display_data",
          "data": {
            "image/png": "[encoded data removed]",
            "text/plain": [
              "<Figure size 864x432 with 1 Axes>"
            ]
          },
          "metadata": {
            "tags": []
          }
        }
      ]
    },
    {
      "cell_type": "markdown",
      "metadata": {
        "colab_type": "text",
        "id": "lhu895As14Gi"
      },
      "source": [
        "Understanding the code above, the option `fit = norm` generates the normal distribution of reference for comparison, in black.\n",
        "\n",
        "In turn, the option `bins = 10` configures how many intervals will be considered by the histogram.\n",
        "\n",
        "Interpreting the graph, we came to the hypothesis that there are three major groups of courses, with only one representing a situation of diversity.\n",
        "\n",
        "We will try to evaluate this hypothesis with more refinement, starting with an analysis of UFRN courses:"
      ]
    },
    {
      "cell_type": "code",
      "metadata": {
        "colab_type": "code",
        "id": "ILTKHRYH14Gk",
        "outputId": "0c0d443e-e49f-4e75-d7ea-bceac9e5eccb",
        "colab": {
          "base_uri": "https://localhost:8080/",
          "height": 34
        }
      },
      "source": [
        "len(data_graduation[\"nome_curso\"].unique())"
      ],
      "execution_count": 0,
      "outputs": [
        {
          "output_type": "execute_result",
          "data": {
            "text/plain": [
              "81"
            ]
          },
          "metadata": {
            "tags": []
          },
          "execution_count": 218
        }
      ]
    },
    {
      "cell_type": "markdown",
      "metadata": {
        "colab_type": "text",
        "id": "xfIrcp_A14Go"
      },
      "source": [
        "One caveat here: the datasets point to 82 different course names, but there are more than 120 undergraduate courses at UFRN.\n",
        "\n",
        "The reason for the smaller number is that undergraduate and bachelor's degrees are not distinguished by name in these datasets.\n",
        "\n",
        "Continuing our analysis:"
      ]
    },
    {
      "cell_type": "code",
      "metadata": {
        "colab_type": "code",
        "id": "cTrbh_cZ14Gp",
        "outputId": "1319663c-a51e-44e6-9686-727a902f0f20",
        "colab": {
          "base_uri": "https://localhost:8080/",
          "height": 450
        }
      },
      "source": [
        "percentage_courses = pd.crosstab(data_graduation[\"nome_curso\"], data_graduation[\"sexo\"], normalize=\"index\")\n",
        "percentage_courses"
      ],
      "execution_count": 0,
      "outputs": [
        {
          "output_type": "execute_result",
          "data": {
            "text/html": [
              "<div>\n",
              "<style scoped>\n",
              "    .dataframe tbody tr th:only-of-type {\n",
              "        vertical-align: middle;\n",
              "    }\n",
              "\n",
              "    .dataframe tbody tr th {\n",
              "        vertical-align: top;\n",
              "    }\n",
              "\n",
              "    .dataframe thead th {\n",
              "        text-align: right;\n",
              "    }\n",
              "</style>\n",
              "<table border=\"1\" class=\"dataframe\">\n",
              "  <thead>\n",
              "    <tr style=\"text-align: right;\">\n",
              "      <th>sexo</th>\n",
              "      <th>F</th>\n",
              "      <th>M</th>\n",
              "    </tr>\n",
              "    <tr>\n",
              "      <th>nome_curso</th>\n",
              "      <th></th>\n",
              "      <th></th>\n",
              "    </tr>\n",
              "  </thead>\n",
              "  <tbody>\n",
              "    <tr>\n",
              "      <th>ADMINISTRAÇÃO</th>\n",
              "      <td>0.421310</td>\n",
              "      <td>0.578690</td>\n",
              "    </tr>\n",
              "    <tr>\n",
              "      <th>ADMINISTRAÇÃO PÚBLICA</th>\n",
              "      <td>0.405000</td>\n",
              "      <td>0.595000</td>\n",
              "    </tr>\n",
              "    <tr>\n",
              "      <th>ANÁLISE E DESENVOLVIMENTO DE SISTEMAS</th>\n",
              "      <td>0.191919</td>\n",
              "      <td>0.808081</td>\n",
              "    </tr>\n",
              "    <tr>\n",
              "      <th>ARQUITETURA E URBANISMO</th>\n",
              "      <td>0.680451</td>\n",
              "      <td>0.319549</td>\n",
              "    </tr>\n",
              "    <tr>\n",
              "      <th>ARTES VISUAIS</th>\n",
              "      <td>0.585551</td>\n",
              "      <td>0.414449</td>\n",
              "    </tr>\n",
              "    <tr>\n",
              "      <th>...</th>\n",
              "      <td>...</td>\n",
              "      <td>...</td>\n",
              "    </tr>\n",
              "    <tr>\n",
              "      <th>SISTEMAS DE INFORMAÇÃO</th>\n",
              "      <td>0.163194</td>\n",
              "      <td>0.836806</td>\n",
              "    </tr>\n",
              "    <tr>\n",
              "      <th>TEATRO</th>\n",
              "      <td>0.452586</td>\n",
              "      <td>0.547414</td>\n",
              "    </tr>\n",
              "    <tr>\n",
              "      <th>TECNOLOGIA DA INFORMAÇÃO</th>\n",
              "      <td>0.104198</td>\n",
              "      <td>0.895802</td>\n",
              "    </tr>\n",
              "    <tr>\n",
              "      <th>TURISMO</th>\n",
              "      <td>0.571429</td>\n",
              "      <td>0.428571</td>\n",
              "    </tr>\n",
              "    <tr>\n",
              "      <th>ZOOTECNIA</th>\n",
              "      <td>0.567568</td>\n",
              "      <td>0.432432</td>\n",
              "    </tr>\n",
              "  </tbody>\n",
              "</table>\n",
              "<p>81 rows × 2 columns</p>\n",
              "</div>"
            ],
            "text/plain": [
              "sexo                                          F         M\n",
              "nome_curso                                               \n",
              "ADMINISTRAÇÃO                          0.421310  0.578690\n",
              "ADMINISTRAÇÃO PÚBLICA                  0.405000  0.595000\n",
              "ANÁLISE E DESENVOLVIMENTO DE SISTEMAS  0.191919  0.808081\n",
              "ARQUITETURA E URBANISMO                0.680451  0.319549\n",
              "ARTES VISUAIS                          0.585551  0.414449\n",
              "...                                         ...       ...\n",
              "SISTEMAS DE INFORMAÇÃO                 0.163194  0.836806\n",
              "TEATRO                                 0.452586  0.547414\n",
              "TECNOLOGIA DA INFORMAÇÃO               0.104198  0.895802\n",
              "TURISMO                                0.571429  0.428571\n",
              "ZOOTECNIA                              0.567568  0.432432\n",
              "\n",
              "[81 rows x 2 columns]"
            ]
          },
          "metadata": {
            "tags": []
          },
          "execution_count": 219
        }
      ]
    },
    {
      "cell_type": "markdown",
      "metadata": {
        "colab_type": "text",
        "id": "rJVf1_7O14Gt"
      },
      "source": [
        "Selecting only the data for the female public and ordering them:"
      ]
    },
    {
      "cell_type": "code",
      "metadata": {
        "colab_type": "code",
        "id": "TO-Khop014Gu",
        "outputId": "ff1b3efe-ddbd-46cf-e958-1f043bef51f8",
        "colab": {
          "base_uri": "https://localhost:8080/",
          "height": 238
        }
      },
      "source": [
        "data_female_courses = percentage_courses[\"F\"].sort_values()\n",
        "data_female_courses"
      ],
      "execution_count": 0,
      "outputs": [
        {
          "output_type": "execute_result",
          "data": {
            "text/plain": [
              "nome_curso\n",
              "TECNOLOGIA DA INFORMAÇÃO          0.104198\n",
              "ENGENHARIA DE TELECOMUNICAÇÕES    0.117647\n",
              "ENGENHARIA MECATRÔNICA            0.139535\n",
              "ENGENHARIA DE SOFTWARE            0.155844\n",
              "ENGENHARIA DE COMPUTAÇÃO          0.159664\n",
              "                                    ...   \n",
              "PEDAGOGIA                         0.778998\n",
              "NUTRIÇÃO                          0.791506\n",
              "FONOAUDIOLOGIA                    0.852140\n",
              "SERVIÇO SOCIAL                    0.874372\n",
              "LETRAS -                          0.875000\n",
              "Name: F, Length: 81, dtype: float64"
            ]
          },
          "metadata": {
            "tags": []
          },
          "execution_count": 220
        }
      ]
    },
    {
      "cell_type": "markdown",
      "metadata": {
        "colab_type": "text",
        "id": "0-WvfLfd14Gx"
      },
      "source": [
        "Again, courses in engineering, technology, health and education appear as the least diverse.\n",
        "\n",
        "Let's look at some descriptive statistics for this series:"
      ]
    },
    {
      "cell_type": "code",
      "metadata": {
        "colab_type": "code",
        "id": "j9Q9Fq_u14Gz",
        "outputId": "5ac5b977-215a-4d99-e7a7-eaab192f2e4a",
        "colab": {
          "base_uri": "https://localhost:8080/",
          "height": 170
        }
      },
      "source": [
        "data_female_courses.describe()"
      ],
      "execution_count": 0,
      "outputs": [
        {
          "output_type": "execute_result",
          "data": {
            "text/plain": [
              "count    81.000000\n",
              "mean      0.461842\n",
              "std       0.194056\n",
              "min       0.104198\n",
              "25%       0.321608\n",
              "50%       0.452586\n",
              "75%       0.604478\n",
              "max       0.875000\n",
              "Name: F, dtype: float64"
            ]
          },
          "metadata": {
            "tags": []
          },
          "execution_count": 221
        }
      ]
    },
    {
      "cell_type": "markdown",
      "metadata": {
        "colab_type": "text",
        "id": "aGX1OpRg14G2"
      },
      "source": [
        "Again, the mean and standard deviation are close to 50% and the standard deviation is around 20%.\n",
        "\n",
        "Let's see which courses are below the first quartile:"
      ]
    },
    {
      "cell_type": "code",
      "metadata": {
        "colab_type": "code",
        "id": "6OlunbXE14G4",
        "outputId": "58c8d099-e2a1-4e12-ed9c-b6e33814da40",
        "colab": {
          "base_uri": "https://localhost:8080/",
          "height": 408
        }
      },
      "source": [
        "data_female_courses[data_female_courses <= data_female_courses.quantile(0.25)]"
      ],
      "execution_count": 0,
      "outputs": [
        {
          "output_type": "execute_result",
          "data": {
            "text/plain": [
              "nome_curso\n",
              "TECNOLOGIA DA INFORMAÇÃO                 0.104198\n",
              "ENGENHARIA DE TELECOMUNICAÇÕES           0.117647\n",
              "ENGENHARIA MECATRÔNICA                   0.139535\n",
              "ENGENHARIA DE SOFTWARE                   0.155844\n",
              "ENGENHARIA DE COMPUTAÇÃO                 0.159664\n",
              "SISTEMAS DE INFORMAÇÃO                   0.163194\n",
              "ENGENHARIA ELÉTRICA                      0.164407\n",
              "ENGENHARIA MECÂNICA                      0.173913\n",
              "CIÊNCIA DA COMPUTAÇÃO                    0.178571\n",
              "FÍSICA                                   0.189614\n",
              "ANÁLISE E DESENVOLVIMENTO DE SISTEMAS    0.191919\n",
              "CIÊNCIAS ECONÔMICAS                      0.227929\n",
              "CIÊNCIAS E TECNOLOGIA                    0.229838\n",
              "MÚSICA                                   0.254808\n",
              "MATEMÁTICA                               0.255086\n",
              "ENGENHARIA CIVIL                         0.274194\n",
              "EDUCAÇÃO FÍSICA                          0.309877\n",
              "ENGENHARIA DE PRODUÇÃO                   0.311419\n",
              "CIÊNCIAS ATUARIAIS                       0.316406\n",
              "ENGENHARIA AGRONÔMICA                    0.320158\n",
              "GEOLOGIA                                 0.321608\n",
              "Name: F, dtype: float64"
            ]
          },
          "metadata": {
            "tags": []
          },
          "execution_count": 222
        }
      ]
    },
    {
      "cell_type": "markdown",
      "metadata": {
        "colab_type": "text",
        "id": "qBacBLPI14G7"
      },
      "source": [
        "In fact, the only new insight we get is the presence of the\n",
        "physical education in this group, an exception among health courses.\n",
        "\n",
        "Now let's see the courses above the third quartile:"
      ]
    },
    {
      "cell_type": "code",
      "metadata": {
        "colab_type": "code",
        "id": "L6Jk-jzH14G9",
        "outputId": "5d79f41e-d105-4a0e-c395-52166399ff68",
        "colab": {
          "base_uri": "https://localhost:8080/",
          "height": 408
        }
      },
      "source": [
        "data_female_courses[data_female_courses >= data_female_courses.quantile(0.75)]"
      ],
      "execution_count": 0,
      "outputs": [
        {
          "output_type": "execute_result",
          "data": {
            "text/plain": [
              "nome_curso\n",
              "LETRAS                                    0.604478\n",
              "BIBLIOTECONOMIA                           0.609977\n",
              "ODONTOLOGIA                               0.615527\n",
              "DANÇA                                     0.617647\n",
              "LETRAS - LÍNGUA PORTUGUESA                0.626357\n",
              "LETRAS- LÍNGUA ESPANHOLA E LITERATURAS    0.628000\n",
              "BIOMEDICINA                               0.645740\n",
              "FISIOTERAPIA                              0.661017\n",
              "PSICOLOGIA                                0.677716\n",
              "SAÚDE COLETIVA                            0.680000\n",
              "ARQUITETURA E URBANISMO                   0.680451\n",
              "GESTÃO HOSPITALAR                         0.698444\n",
              "LETRAS - LÍNGUA ESPANHOLA                 0.702020\n",
              "LETRAS - PORTUGUÊS E INGLÊS               0.720000\n",
              "ENFERMAGEM                                0.753219\n",
              "LETRAS - LÍNGUA PORTUGUESA E LIBRAS       0.759615\n",
              "PEDAGOGIA                                 0.778998\n",
              "NUTRIÇÃO                                  0.791506\n",
              "FONOAUDIOLOGIA                            0.852140\n",
              "SERVIÇO SOCIAL                            0.874372\n",
              "LETRAS -                                  0.875000\n",
              "Name: F, dtype: float64"
            ]
          },
          "metadata": {
            "tags": []
          },
          "execution_count": 223
        }
      ]
    },
    {
      "cell_type": "markdown",
      "metadata": {
        "colab_type": "text",
        "id": "5E-uLhED14HB"
      },
      "source": [
        "Here we see one more exception, with architecture and urbanism in this group.\n",
        "\n",
        "In addition, the presence of courses in Literature draws attention, considering that its responsible unit has an almost equal proportion between male and female students.\n",
        "\n",
        "Finally, we will use the `distplot` and compare the data distribution with a normal distribution:"
      ]
    },
    {
      "cell_type": "code",
      "metadata": {
        "colab_type": "code",
        "id": "jdcomz0614HC",
        "outputId": "769948f2-db78-4fa5-af0d-06a92d0a215d",
        "colab": {
          "base_uri": "https://localhost:8080/",
          "height": 454
        }
      },
      "source": [
        "plt.figure(figsize=(12,6))\n",
        "sns.distplot(data_female_courses, fit=norm, bins=10)\n",
        "plt.ylabel(\"Number of courses\", fontsize=15)\n",
        "plt.xlabel(\"Percent\", fontsize=15)\n",
        "plt.title(\"Undergraduate female students per course\", fontsize=19)"
      ],
      "execution_count": 0,
      "outputs": [
        {
          "output_type": "execute_result",
          "data": {
            "text/plain": [
              "Text(0.5, 1.0, 'Undergraduate female students per course')"
            ]
          },
          "metadata": {
            "tags": []
          },
          "execution_count": 243
        },
        {
          "output_type": "display_data",
          "data": {
            "image/png": "[encoded data removed]",
            "text/plain": [
              "<Figure size 864x432 with 1 Axes>"
            ]
          },
          "metadata": {
            "tags": []
          }
        }
      ]
    },
    {
      "cell_type": "markdown",
      "metadata": {
        "colab_type": "text",
        "id": "M1wKJjtz14HF"
      },
      "source": [
        "In this case, we notice a distribution much closer to normal.\n",
        "\n",
        "However, there is a considerable peak at the lower end of the x-axis.\n",
        "\n",
        "Overall, we can say that diversity at the university is better off than diversity at university courses.\n",
        "\n",
        "In other words, different profiles will find courses to suit them, but few courses will meet different profiles."
      ]
    }
  ]
}